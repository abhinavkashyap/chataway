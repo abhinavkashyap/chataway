{
 "cells": [
  {
   "cell_type": "code",
   "execution_count": 1,
   "metadata": {},
   "outputs": [],
   "source": [
    "import pandas as pd"
   ]
  },
  {
   "cell_type": "code",
   "execution_count": 3,
   "metadata": {},
   "outputs": [],
   "source": [
    "df = pd.read_excel(\n",
    "    \"/Users/abhinavkashyap/abhi/projects/headlamphealth/headlamphealth/sample_data/patients_data.xlsx\"\n",
    ")"
   ]
  },
  {
   "cell_type": "code",
   "execution_count": 6,
   "metadata": {},
   "outputs": [
    {
     "data": {
      "text/html": [
       "<div>\n",
       "<style scoped>\n",
       "    .dataframe tbody tr th:only-of-type {\n",
       "        vertical-align: middle;\n",
       "    }\n",
       "\n",
       "    .dataframe tbody tr th {\n",
       "        vertical-align: top;\n",
       "    }\n",
       "\n",
       "    .dataframe thead th {\n",
       "        text-align: right;\n",
       "    }\n",
       "</style>\n",
       "<table border=\"1\" class=\"dataframe\">\n",
       "  <thead>\n",
       "    <tr style=\"text-align: right;\">\n",
       "      <th></th>\n",
       "      <th>Unnamed: 0</th>\n",
       "      <th>date</th>\n",
       "      <th>sleep</th>\n",
       "      <th>diet</th>\n",
       "      <th>social</th>\n",
       "      <th>exercise</th>\n",
       "      <th>anxious</th>\n",
       "      <th>happy</th>\n",
       "      <th>motivation</th>\n",
       "    </tr>\n",
       "  </thead>\n",
       "  <tbody>\n",
       "    <tr>\n",
       "      <th>0</th>\n",
       "      <td>20</td>\n",
       "      <td>2023-10-30</td>\n",
       "      <td>20</td>\n",
       "      <td>20.0</td>\n",
       "      <td>10.0</td>\n",
       "      <td>20</td>\n",
       "      <td>9</td>\n",
       "      <td>0</td>\n",
       "      <td>0</td>\n",
       "    </tr>\n",
       "    <tr>\n",
       "      <th>1</th>\n",
       "      <td>21</td>\n",
       "      <td>2023-10-31</td>\n",
       "      <td>20</td>\n",
       "      <td>20.0</td>\n",
       "      <td>20.0</td>\n",
       "      <td>20</td>\n",
       "      <td>6</td>\n",
       "      <td>0</td>\n",
       "      <td>0</td>\n",
       "    </tr>\n",
       "    <tr>\n",
       "      <th>2</th>\n",
       "      <td>22</td>\n",
       "      <td>2023-11-02</td>\n",
       "      <td>20</td>\n",
       "      <td>30.0</td>\n",
       "      <td>20.0</td>\n",
       "      <td>20</td>\n",
       "      <td>2</td>\n",
       "      <td>3</td>\n",
       "      <td>3</td>\n",
       "    </tr>\n",
       "    <tr>\n",
       "      <th>3</th>\n",
       "      <td>23</td>\n",
       "      <td>2023-11-05</td>\n",
       "      <td>20</td>\n",
       "      <td>30.0</td>\n",
       "      <td>30.0</td>\n",
       "      <td>10</td>\n",
       "      <td>8</td>\n",
       "      <td>2</td>\n",
       "      <td>3</td>\n",
       "    </tr>\n",
       "    <tr>\n",
       "      <th>4</th>\n",
       "      <td>24</td>\n",
       "      <td>2023-11-07</td>\n",
       "      <td>30</td>\n",
       "      <td>20.0</td>\n",
       "      <td>30.0</td>\n",
       "      <td>10</td>\n",
       "      <td>8</td>\n",
       "      <td>2</td>\n",
       "      <td>3</td>\n",
       "    </tr>\n",
       "  </tbody>\n",
       "</table>\n",
       "</div>"
      ],
      "text/plain": [
       "   Unnamed: 0       date  sleep  diet  social  exercise  anxious  happy  \\\n",
       "0          20 2023-10-30     20  20.0    10.0        20        9      0   \n",
       "1          21 2023-10-31     20  20.0    20.0        20        6      0   \n",
       "2          22 2023-11-02     20  30.0    20.0        20        2      3   \n",
       "3          23 2023-11-05     20  30.0    30.0        10        8      2   \n",
       "4          24 2023-11-07     30  20.0    30.0        10        8      2   \n",
       "\n",
       "   motivation  \n",
       "0           0  \n",
       "1           0  \n",
       "2           3  \n",
       "3           3  \n",
       "4           3  "
      ]
     },
     "execution_count": 6,
     "metadata": {},
     "output_type": "execute_result"
    }
   ],
   "source": [
    "df.head()"
   ]
  },
  {
   "cell_type": "code",
   "execution_count": 8,
   "metadata": {},
   "outputs": [
    {
     "name": "stdout",
     "output_type": "stream",
     "text": [
      "Number of rows in the 91\n",
      "Unique Values in col Unnamed: 0: [20, 21, 22, 23, 24, 25, 26, 27, 28, 29, 30, 31, 32, 33, 34, 35, 36, 37, 38, 39, 40, 41, 42, 43, 44, 45, 46, 47, 48, 49, 50, 51, 52, 53, 54, 55, 56, 57, 58, 59, 60, 61, 62, 63, 64, 65, 66, 67, 68, 69, 70, 71, 72, 243, 244, 245, 246, 247, 248, 249, 250, 251, 252, 253, 254, 255, 256, 257, 258, 259, 260, 261, 262, 263, 264, 265, 266, 267, 268, 269, 270, 271, 272, 273, 274, 275, 276, 277, 278, 279, 280]\n",
      "Unique Values in col date: [Timestamp('2023-10-30 00:00:00'), Timestamp('2023-10-31 00:00:00'), Timestamp('2023-11-02 00:00:00'), Timestamp('2023-11-05 00:00:00'), Timestamp('2023-11-07 00:00:00'), Timestamp('2023-11-08 00:00:00'), Timestamp('2023-11-10 00:00:00'), Timestamp('2023-11-12 00:00:00'), Timestamp('2023-11-13 00:00:00'), Timestamp('2023-11-16 00:00:00'), Timestamp('2023-11-19 00:00:00'), Timestamp('2023-11-23 00:00:00'), Timestamp('2023-11-24 00:00:00'), Timestamp('2023-11-27 00:00:00'), Timestamp('2023-12-01 00:00:00'), Timestamp('2023-12-04 00:00:00'), Timestamp('2023-12-05 00:00:00'), Timestamp('2023-12-09 00:00:00'), Timestamp('2023-12-11 00:00:00'), Timestamp('2023-12-12 00:00:00'), Timestamp('2023-12-13 00:00:00'), Timestamp('2023-12-14 00:00:00'), Timestamp('2023-12-15 00:00:00'), Timestamp('2023-12-17 00:00:00'), Timestamp('2023-12-20 00:00:00'), Timestamp('2023-12-22 00:00:00'), Timestamp('2023-12-27 00:00:00'), Timestamp('2023-12-30 00:00:00'), Timestamp('2023-12-31 00:00:00'), Timestamp('2024-01-02 00:00:00'), Timestamp('2024-01-03 00:00:00'), Timestamp('2024-01-05 00:00:00'), Timestamp('2024-01-08 00:00:00'), Timestamp('2024-01-10 00:00:00'), Timestamp('2024-01-12 00:00:00'), Timestamp('2024-01-15 00:00:00'), Timestamp('2024-01-17 00:00:00'), Timestamp('2024-01-19 00:00:00'), Timestamp('2024-01-22 00:00:00'), Timestamp('2024-01-24 00:00:00'), Timestamp('2024-01-25 00:00:00'), Timestamp('2024-01-31 00:00:00'), Timestamp('2024-02-03 00:00:00'), Timestamp('2024-02-05 00:00:00'), Timestamp('2024-02-07 00:00:00'), Timestamp('2024-02-09 00:00:00'), Timestamp('2024-02-14 00:00:00'), Timestamp('2024-02-15 00:00:00'), Timestamp('2024-02-16 00:00:00'), Timestamp('2024-02-18 00:00:00'), Timestamp('2024-02-22 00:00:00'), Timestamp('2024-02-23 00:00:00'), Timestamp('2024-02-26 00:00:00'), Timestamp('2024-01-26 00:00:00'), Timestamp('2024-01-29 00:00:00'), Timestamp('2024-01-30 00:00:00'), Timestamp('2024-02-01 00:00:00'), Timestamp('2024-02-06 00:00:00'), Timestamp('2024-02-10 00:00:00'), Timestamp('2024-02-11 00:00:00'), Timestamp('2024-02-12 00:00:00'), Timestamp('2024-02-13 00:00:00'), Timestamp('2024-02-19 00:00:00'), Timestamp('2024-02-20 00:00:00'), Timestamp('2024-02-21 00:00:00'), Timestamp('2024-02-27 00:00:00'), Timestamp('2024-02-28 00:00:00'), Timestamp('2024-03-04 00:00:00'), Timestamp('2024-03-05 00:00:00'), Timestamp('2024-03-06 00:00:00'), Timestamp('2024-03-11 00:00:00'), Timestamp('2024-03-12 00:00:00'), Timestamp('2024-03-13 00:00:00'), Timestamp('2024-03-18 00:00:00'), Timestamp('2024-03-19 00:00:00'), Timestamp('2024-03-20 00:00:00'), Timestamp('2024-03-25 00:00:00'), Timestamp('2024-03-26 00:00:00'), Timestamp('2024-03-27 00:00:00'), Timestamp('2024-04-01 00:00:00'), Timestamp('2024-04-02 00:00:00'), Timestamp('2024-04-03 00:00:00'), Timestamp('2024-04-04 00:00:00'), Timestamp('2024-04-08 00:00:00'), Timestamp('2024-04-09 00:00:00'), Timestamp('2024-04-10 00:00:00')]\n",
      "Unique Values in col sleep: [20, 30, 10]\n",
      "Unique Values in col diet: [20.0, 30.0, 10.0, nan]\n",
      "Unique Values in col social: [10.0, 20.0, 30.0, nan]\n",
      "Unique Values in col exercise: [20, 10, 30]\n",
      "Unique Values in col anxious: [9, 6, 2, 8, 4, 3, 5, 7, 10, 1]\n",
      "Unique Values in col happy: [0, 3, 2, 1, 6, 8, 4, 5, 7]\n",
      "Unique Values in col motivation: [0, 3, 4, 1, 2, 6, 7, 9, 5, 8]\n"
     ]
    }
   ],
   "source": [
    "# Let us get some information about the dataset\n",
    "num_rows = len(df)\n",
    "print(f\"Number of rows in the {num_rows}\")\n",
    "\n",
    "# Find the number of missing values in each column in the dataset\n",
    "unique_values = {col: df[col].unique().tolist() for col in df.columns}\n",
    "\n",
    "for col, values in unique_values.items():\n",
    "    print(f\"Unique Values in col {col}: {values}\")"
   ]
  },
  {
   "cell_type": "code",
   "execution_count": 11,
   "metadata": {},
   "outputs": [
    {
     "name": "stdout",
     "output_type": "stream",
     "text": [
      "Number of nans in Unnamed: 0: 0\n",
      "Number of nans in date: 0\n",
      "Number of nans in sleep: 0\n",
      "Number of nans in diet: 38\n",
      "Number of nans in social: 38\n",
      "Number of nans in exercise: 0\n",
      "Number of nans in anxious: 0\n",
      "Number of nans in happy: 0\n",
      "Number of nans in motivation: 0\n"
     ]
    }
   ],
   "source": [
    "# HOw many values in each column are nan\n",
    "# There is a chance that a person may log only some of the values in the column\n",
    "num_nan = {col: df[col].isna().sum() for col in df.columns}\n",
    "for col, count in num_nan.items():\n",
    "    print(f\"Number of nans in {col}: {count}\")\n",
    "\n",
    "\n",
    "# Social seems to be something that is not logged by the patient at all\n",
    "# For some of the things like diet, we can assume that it does not change too much and fill the NAs with mean value\n",
    "# But for others like social, it can vary quite a bit from person to person."
   ]
  },
  {
   "cell_type": "code",
   "execution_count": 17,
   "metadata": {},
   "outputs": [
    {
     "name": "stdout",
     "output_type": "stream",
     "text": [
      "Sleep-Anxiety Correlation -0.27452726835962865\n",
      "Exercise-Anxiety Correlation -0.5833844944308754\n",
      "Sleep-Happy Correlation 0.15899145036459747\n",
      "Exercise-Happy Correlation 0.3331401959190728\n"
     ]
    }
   ],
   "source": [
    "# let us find the correlation between anxiety and sleep\n",
    "# I would expect, lesser the sleep more the anxiety. Is this the case?\n",
    "\n",
    "sleep_anxiety_corr = df[\"anxious\"].corr(df[\"sleep\"])\n",
    "sleep_exercise_corr = df[\"anxious\"].corr(df[\"exercise\"])\n",
    "\n",
    "# Greater the sleep, lesser the anxiety\n",
    "print(f\"Sleep-Anxiety Correlation {sleep_anxiety_corr}\")\n",
    "\n",
    "# Greater the exercise, lesser the anxiety as well\n",
    "print(f\"Exercise-Anxiety Correlation {sleep_exercise_corr}\")\n",
    "\n",
    "# We can do similar for other mental-health measures as well\n",
    "\n",
    "sleep_happy_corr = df[\"happy\"].corr(df[\"sleep\"])\n",
    "print(f\"Sleep-Happy Correlation {sleep_happy_corr}\")\n",
    "exercise_happy_corr = df[\"happy\"].corr(df[\"exercise\"])\n",
    "print(f\"Exercise-Happy Correlation {exercise_happy_corr}\")"
   ]
  },
  {
   "cell_type": "code",
   "execution_count": 19,
   "metadata": {},
   "outputs": [],
   "source": [
    "# These correlations seem to agree with common knowledge about mental health\n",
    "# We can build the linear regression that\n",
    "\n",
    "\n",
    "# This can horribly be wrong. This should be checked.\n",
    "# The other way to do it is to drop the rows that have incomplete values\n",
    "# for demonstration purposes, let's do this in the first place.\n",
    "for col in [\"diet\", \"social\"]:\n",
    "    df[col] = df[col].fillna(df[col].mean())"
   ]
  },
  {
   "cell_type": "code",
   "execution_count": 21,
   "metadata": {},
   "outputs": [
    {
     "name": "stdout",
     "output_type": "stream",
     "text": [
      "0\n",
      "0\n"
     ]
    }
   ],
   "source": [
    "# Check whether the diet and social do not have nas\n",
    "print(df[\"diet\"].isna().sum())\n",
    "print(df[\"social\"].isna().sum())"
   ]
  },
  {
   "cell_type": "code",
   "execution_count": 22,
   "metadata": {},
   "outputs": [],
   "source": [
    "# lets perform a simple linear regression with anxiety as the dependent variable\n",
    "# The other columns -- sleep, diet, social, exercise are going to be the independent variable\n",
    "\n",
    "from sklearn.linear_model import LinearRegression\n",
    "\n",
    "X = df[[\"sleep\", \"diet\", \"social\", \"exercise\"]]\n",
    "y = df[\"anxious\"]\n",
    "\n",
    "# WE can split this into 80 10 10 train validation and test split first before fitting\n",
    "# a linear model\n",
    "reg = LinearRegression().fit(X, y)"
   ]
  },
  {
   "cell_type": "code",
   "execution_count": 24,
   "metadata": {},
   "outputs": [
    {
     "data": {
      "text/plain": [
       "0.4144942269001145"
      ]
     },
     "execution_count": 24,
     "metadata": {},
     "output_type": "execute_result"
    }
   ],
   "source": [
    "# This is the coefficient of regression which is the R2\n",
    "# This checks whether the fitted values capture the variation in the dependent variable\n",
    "# WE get around 0.4 which is not too high actually\n",
    "# But given that there is only 92 instances, we cannot expect a really good linear classifier\n",
    "reg.score(X, y)"
   ]
  }
 ],
 "metadata": {
  "kernelspec": {
   "display_name": "headlamphealth-BCTY5CTC-py3.9",
   "language": "python",
   "name": "python3"
  },
  "language_info": {
   "codemirror_mode": {
    "name": "ipython",
    "version": 3
   },
   "file_extension": ".py",
   "mimetype": "text/x-python",
   "name": "python",
   "nbconvert_exporter": "python",
   "pygments_lexer": "ipython3",
   "version": "3.9.13"
  }
 },
 "nbformat": 4,
 "nbformat_minor": 2
}
