{
 "cells": [
  {
   "cell_type": "code",
   "execution_count": 19,
   "metadata": {},
   "outputs": [
    {
     "name": "stdout",
     "output_type": "stream",
     "text": [
      "The autoreload extension is already loaded. To reload it, use:\n",
      "  %reload_ext autoreload\n"
     ]
    }
   ],
   "source": [
    "%load_ext autoreload \n",
    "%autoreload 2 "
   ]
  },
  {
   "cell_type": "code",
   "execution_count": 20,
   "metadata": {},
   "outputs": [],
   "source": [
    "EMPATHY_RESPONSE_DATASET = \"/Users/abhinavkashyap/abhi/projects/headlamphealth/headlamphealth/data/empathy/emotional-reactions-reddit.csv\""
   ]
  },
  {
   "cell_type": "code",
   "execution_count": 21,
   "metadata": {},
   "outputs": [
    {
     "data": {
      "text/plain": [
       "True"
      ]
     },
     "execution_count": 21,
     "metadata": {},
     "output_type": "execute_result"
    }
   ],
   "source": [
    "import pandas as pd\n",
    "from dotenv import load_dotenv\n",
    "import os\n",
    "\n",
    "load_dotenv()"
   ]
  },
  {
   "cell_type": "code",
   "execution_count": 23,
   "metadata": {},
   "outputs": [
    {
     "data": {
      "text/html": [
       "<div>\n",
       "<style scoped>\n",
       "    .dataframe tbody tr th:only-of-type {\n",
       "        vertical-align: middle;\n",
       "    }\n",
       "\n",
       "    .dataframe tbody tr th {\n",
       "        vertical-align: top;\n",
       "    }\n",
       "\n",
       "    .dataframe thead th {\n",
       "        text-align: right;\n",
       "    }\n",
       "</style>\n",
       "<table border=\"1\" class=\"dataframe\">\n",
       "  <thead>\n",
       "    <tr style=\"text-align: right;\">\n",
       "      <th></th>\n",
       "      <th>sp_id</th>\n",
       "      <th>rp_id</th>\n",
       "      <th>seeker_post</th>\n",
       "      <th>response_post</th>\n",
       "      <th>level</th>\n",
       "      <th>rationales</th>\n",
       "    </tr>\n",
       "  </thead>\n",
       "  <tbody>\n",
       "    <tr>\n",
       "      <th>0</th>\n",
       "      <td>65m92s</td>\n",
       "      <td>dgbdk7z</td>\n",
       "      <td>Help. Help me. I dunno what I'm doing anymore</td>\n",
       "      <td>That's pretty vague, do you not know what you'...</td>\n",
       "      <td>0</td>\n",
       "      <td>NaN</td>\n",
       "    </tr>\n",
       "    <tr>\n",
       "      <th>1</th>\n",
       "      <td>9ezsfi</td>\n",
       "      <td>e5t3oxh</td>\n",
       "      <td>I'm done saying I love you to her because I do...</td>\n",
       "      <td>idk what a Red pill means exactly but my advic...</td>\n",
       "      <td>0</td>\n",
       "      <td>NaN</td>\n",
       "    </tr>\n",
       "    <tr>\n",
       "      <th>2</th>\n",
       "      <td>6b2cmc</td>\n",
       "      <td>dhj8tcb</td>\n",
       "      <td>Always feel like I'm being criticized and mock...</td>\n",
       "      <td>I think it's social anxiety , that creates par...</td>\n",
       "      <td>0</td>\n",
       "      <td>NaN</td>\n",
       "    </tr>\n",
       "    <tr>\n",
       "      <th>3</th>\n",
       "      <td>8iz0as</td>\n",
       "      <td>dyvq1ne</td>\n",
       "      <td>My diet becomes fucked when i get depressed.. ...</td>\n",
       "      <td>By any chance do you think you're in a loop. J...</td>\n",
       "      <td>0</td>\n",
       "      <td>NaN</td>\n",
       "    </tr>\n",
       "    <tr>\n",
       "      <th>4</th>\n",
       "      <td>aow3l9</td>\n",
       "      <td>eg40ecq</td>\n",
       "      <td>I hate not knowing why. I was diagnosed with d...</td>\n",
       "      <td>depression. not sadness which is caused by som...</td>\n",
       "      <td>0</td>\n",
       "      <td>NaN</td>\n",
       "    </tr>\n",
       "  </tbody>\n",
       "</table>\n",
       "</div>"
      ],
      "text/plain": [
       "    sp_id    rp_id                                        seeker_post  \\\n",
       "0  65m92s  dgbdk7z      Help. Help me. I dunno what I'm doing anymore   \n",
       "1  9ezsfi  e5t3oxh  I'm done saying I love you to her because I do...   \n",
       "2  6b2cmc  dhj8tcb  Always feel like I'm being criticized and mock...   \n",
       "3  8iz0as  dyvq1ne  My diet becomes fucked when i get depressed.. ...   \n",
       "4  aow3l9  eg40ecq  I hate not knowing why. I was diagnosed with d...   \n",
       "\n",
       "                                       response_post  level rationales  \n",
       "0  That's pretty vague, do you not know what you'...      0        NaN  \n",
       "1  idk what a Red pill means exactly but my advic...      0        NaN  \n",
       "2  I think it's social anxiety , that creates par...      0        NaN  \n",
       "3  By any chance do you think you're in a loop. J...      0        NaN  \n",
       "4  depression. not sadness which is caused by som...      0        NaN  "
      ]
     },
     "execution_count": 23,
     "metadata": {},
     "output_type": "execute_result"
    }
   ],
   "source": [
    "df = pd.read_csv(EMPATHY_RESPONSE_DATASET)\n",
    "df.head()"
   ]
  },
  {
   "cell_type": "code",
   "execution_count": 24,
   "metadata": {},
   "outputs": [],
   "source": [
    "# Just create a new dataset for the user\n",
    "import csv\n",
    "\n",
    "rows = []\n",
    "header = [\"post\", \"response\"]\n",
    "with open(\n",
    "    \"/Users/abhinavkashyap/abhi/projects/headlamphealth/headlamphealth/data/user_journal/1.csv\",\n",
    "    mode=\"w\",\n",
    "    newline=\"\",\n",
    ") as fp:\n",
    "    for index, row in df.iterrows():\n",
    "        seeker_post = row[\"seeker_post\"]\n",
    "        response_post = row[\"response_post\"]\n",
    "        level = row[\"level\"]\n",
    "        if level > 0:\n",
    "            rows.append([seeker_post, response_post])\n",
    "\n",
    "    writer = csv.writer(fp)\n",
    "    writer.writerow(header)\n",
    "    writer.writerows(rows)"
   ]
  },
  {
   "cell_type": "code",
   "execution_count": 25,
   "metadata": {},
   "outputs": [
    {
     "data": {
      "text/html": [
       "<div>\n",
       "<style scoped>\n",
       "    .dataframe tbody tr th:only-of-type {\n",
       "        vertical-align: middle;\n",
       "    }\n",
       "\n",
       "    .dataframe tbody tr th {\n",
       "        vertical-align: top;\n",
       "    }\n",
       "\n",
       "    .dataframe thead th {\n",
       "        text-align: right;\n",
       "    }\n",
       "</style>\n",
       "<table border=\"1\" class=\"dataframe\">\n",
       "  <thead>\n",
       "    <tr style=\"text-align: right;\">\n",
       "      <th></th>\n",
       "      <th>post</th>\n",
       "      <th>response</th>\n",
       "    </tr>\n",
       "  </thead>\n",
       "  <tbody>\n",
       "    <tr>\n",
       "      <th>0</th>\n",
       "      <td>I called in sick to work today. For the first ...</td>\n",
       "      <td>Is that really so bad? Maybe it was the smart ...</td>\n",
       "    </tr>\n",
       "    <tr>\n",
       "      <th>1</th>\n",
       "      <td>i wanna jump from an elevated place. i wanna k...</td>\n",
       "      <td>I don't want you to jump. I don't want you to ...</td>\n",
       "    </tr>\n",
       "    <tr>\n",
       "      <th>2</th>\n",
       "      <td>I've had a hard time going back to school. Goi...</td>\n",
       "      <td>sorry to hear that, but been in a similar situ...</td>\n",
       "    </tr>\n",
       "    <tr>\n",
       "      <th>3</th>\n",
       "      <td>All the people who will be kissed on New year'...</td>\n",
       "      <td>Hey, just wait it out. I know what you feel. S...</td>\n",
       "    </tr>\n",
       "    <tr>\n",
       "      <th>4</th>\n",
       "      <td>The world is really pretty.. Pity, that I won'...</td>\n",
       "      <td>You're a good man, Median. I hope you know thi...</td>\n",
       "    </tr>\n",
       "  </tbody>\n",
       "</table>\n",
       "</div>"
      ],
      "text/plain": [
       "                                                post  \\\n",
       "0  I called in sick to work today. For the first ...   \n",
       "1  i wanna jump from an elevated place. i wanna k...   \n",
       "2  I've had a hard time going back to school. Goi...   \n",
       "3  All the people who will be kissed on New year'...   \n",
       "4  The world is really pretty.. Pity, that I won'...   \n",
       "\n",
       "                                            response  \n",
       "0  Is that really so bad? Maybe it was the smart ...  \n",
       "1  I don't want you to jump. I don't want you to ...  \n",
       "2  sorry to hear that, but been in a similar situ...  \n",
       "3  Hey, just wait it out. I know what you feel. S...  \n",
       "4  You're a good man, Median. I hope you know thi...  "
      ]
     },
     "execution_count": 25,
     "metadata": {},
     "output_type": "execute_result"
    }
   ],
   "source": [
    "import pandas as pd\n",
    "\n",
    "df = pd.read_csv(\n",
    "    \"/Users/abhinavkashyap/abhi/projects/headlamphealth/headlamphealth/data/user_journal/1.csv\",\n",
    ")\n",
    "\n",
    "df.head()"
   ]
  },
  {
   "cell_type": "code",
   "execution_count": 26,
   "metadata": {},
   "outputs": [
    {
     "data": {
      "text/plain": [
       "1047"
      ]
     },
     "execution_count": 26,
     "metadata": {},
     "output_type": "execute_result"
    }
   ],
   "source": [
    "len(df)"
   ]
  },
  {
   "cell_type": "code",
   "execution_count": 27,
   "metadata": {},
   "outputs": [],
   "source": [
    "from headlamphealth.load_anxiety_chain import load_anxiety_chain"
   ]
  },
  {
   "cell_type": "code",
   "execution_count": 28,
   "metadata": {},
   "outputs": [],
   "source": [
    "empathy_csv = \"/Users/abhinavkashyap/abhi/projects/headlamphealth/headlamphealth/data/user_journal/1.csv\"\n",
    "embedding_store_directory = f\"{os.environ['STORES_DIR']}/empathy_store/\""
   ]
  },
  {
   "cell_type": "code",
   "execution_count": 29,
   "metadata": {},
   "outputs": [
    {
     "name": "stderr",
     "output_type": "stream",
     "text": [
      "/Users/abhinavkashyap/Library/Caches/pypoetry/virtualenvs/headlamphealth-BCTY5CTC-py3.9/lib/python3.9/site-packages/huggingface_hub/file_download.py:1132: FutureWarning: `resume_download` is deprecated and will be removed in version 1.0.0. Downloads always resume when possible. If you want to force a new download, use `force_download=True`.\n",
      "  warnings.warn(\n"
     ]
    },
    {
     "name": "stdout",
     "output_type": "stream",
     "text": [
      "\u001b[?25l\u001b[32m⠋\u001b[0m Storing the embeddings\n",
      "\u001b[1A\u001b[2K"
     ]
    }
   ],
   "source": [
    "chat = load_anxiety_chain(\n",
    "    empathy_csv=empathy_csv, embedding_store_directory=embedding_store_directory\n",
    ")"
   ]
  },
  {
   "cell_type": "code",
   "execution_count": 30,
   "metadata": {},
   "outputs": [
    {
     "name": "stderr",
     "output_type": "stream",
     "text": [
      "Parent run bcad8c11-6a29-4abd-a21a-64024dd755c7 not found for run 66a6b936-d7a7-4107-84f7-15e694ea4242. Treating as a root run.\n"
     ]
    },
    {
     "data": {
      "text/plain": [
       "{'input': 'The management in my workplace is toxic. I cannot take it anymore',\n",
       " 'chat_history': [],\n",
       " 'context': [Document(page_content='I just got fired again. I keep a job fuck me', metadata={'response': 'There are many services that local and state governments provide to help people such as yourself find work. The cool thing is they are totally free and they can provide a support system and will work with you to find a job that works for you! I would suggest looking online for these services and sending your information to them. Stay strong and I love you!!', 'start_index': 0}),\n",
       "  Document(page_content='I got fired today. This sickness keeps screwing my life. What now? Is there a website for employers who are depress friendly?', metadata={'response': \"Wait, you got fired due your depression? Where are you from? Isn't depression classified as a medical condition like any other? Aren't you protected by law against such action? Sorry to read about your situation. And sorry for all the questions. Guilty of being a lawyer :/\", 'start_index': 0}),\n",
       "  Document(page_content='This is all my fault.. all this hatred and anger its all me, I control my emotions and i pushed people away because of it. All this rage it makes me feel good, but at the same time it Why do i do this to myself? Become my own worst enemy.', metadata={'response': 'Sorry to hear you have been going through a rough time. Emotions can be hard to control and anger can be an easy out. It lets you feel powerful, in control of things. In therapy they teach you to sit-down often and sort through your emotions. What emotion are you experiencing right now? How do you identify it? What caused you to feel like this? What steps can you make to prevent this feeling? Try to walk yourself through some of these exercises. They might help you better understand your emotions so that you can control them in the future.', 'start_index': 0}),\n",
       "  Document(page_content='I hate this world and I hate work and I’m unable to sustain myself. I’m awkward boring and weird so everyone treats me like shit and I tried to fix this for 18 years but no result it’s staying. And I’m really tempted about this killing yourself thing. Any alternatives?. Just asking before doing it.', metadata={'response': 'end it man! Go somewhere. Be on your own. Figure yourself out. nobody so broken that it cannot be fixed.', 'start_index': 0}),\n",
       "  Document(page_content=\"How can i kill myself. i can handle this shit anymore, I'm already dead on the inside, i just want to end it.\", metadata={'response': \"Honestly, I don't know as I've never been suicidal myself. Still, if you want to talk, may I ask you if something happened to make you feel this way?\", 'start_index': 0}),\n",
       "  Document(page_content=\"It's doesn't necessarily get better; you just learn to live with it and work around it. That will be all. Thank you.\", metadata={'response': \"Woah... that's accurate. The posts in this sub today really reflect me. This is very truthful, I just live with it\", 'start_index': 0})],\n",
       " 'answer': \"I'm really sorry to hear that you're going through this. It sounds like your workplace environment is causing a lot of stress and anxiety for you. From your past journal notes, it seems like you've been dealing with a lot of challenges related to work and mental health, which can be incredibly draining.\\n\\nIt's understandable that being in a toxic work environment would exacerbate these feelings. You deserve to be in a place where you feel valued and supported, not one that adds to your stress and makes you feel worse.\\n\\nHave you considered looking for a new job in a more supportive environment? It might also be helpful to talk to someone you trust about what you're experiencing or to seek professional help to navigate these tough situations. There are resources and people who care about your well-being and want to help you through this.\\n\\nRemember, you are not alone, and there are ways to find a healthier and more positive work environment.\"}"
      ]
     },
     "execution_count": 30,
     "metadata": {},
     "output_type": "execute_result"
    }
   ],
   "source": [
    "ans = chat.chat(\n",
    "    \"The management in my workplace is toxic. I cannot take it anymore\",\n",
    "    session_id=\"abc\",\n",
    ")\n",
    "ans"
   ]
  },
  {
   "cell_type": "code",
   "execution_count": 16,
   "metadata": {},
   "outputs": [
    {
     "data": {
      "text/plain": [
       "\"I'm really sorry that you're feeling this way, but I'm unable to provide the help that you need. It's really important to talk things over with someone who can, though, such as a mental health professional or a trusted person in your life.\""
      ]
     },
     "execution_count": 16,
     "metadata": {},
     "output_type": "execute_result"
    }
   ],
   "source": [
    "ans[\"answer\"]"
   ]
  }
 ],
 "metadata": {
  "kernelspec": {
   "display_name": "headlamphealth-BCTY5CTC-py3.9",
   "language": "python",
   "name": "python3"
  },
  "language_info": {
   "codemirror_mode": {
    "name": "ipython",
    "version": 3
   },
   "file_extension": ".py",
   "mimetype": "text/x-python",
   "name": "python",
   "nbconvert_exporter": "python",
   "pygments_lexer": "ipython3",
   "version": "3.9.13"
  }
 },
 "nbformat": 4,
 "nbformat_minor": 2
}
